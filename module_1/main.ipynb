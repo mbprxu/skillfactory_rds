{
 "cells": [
  {
   "cell_type": "code",
   "execution_count": 1,
   "metadata": {
    "_cell_guid": "b1076dfc-b9ad-4769-8c92-a6c4dae69d19",
    "_uuid": "8f2839f25d086af736a60e9eeb907d3b93b6e0e5"
   },
   "outputs": [],
   "source": [
    "import pandas as pd\n",
    "from collections import Counter\n",
    "import calendar\n",
    "import re"
   ]
  },
  {
   "cell_type": "code",
   "execution_count": 2,
   "metadata": {},
   "outputs": [],
   "source": [
    "data = pd.read_csv('data.csv')\n",
    "\n",
    "data['profit'] = data['revenue'] - data['budget']\n",
    "data['is_profit'] = data['profit'] > 0"
   ]
  },
  {
   "cell_type": "code",
   "execution_count": 3,
   "metadata": {},
   "outputs": [],
   "source": [
    "answers = dict()"
   ]
  },
  {
   "cell_type": "markdown",
   "metadata": {},
   "source": [
    "# 1. У какого фильма из списка самый большой бюджет?\n",
    "Варианты ответов:\n",
    "1. The Dark Knight Rises (tt1345836)\n",
    "2. Spider-Man 3 (tt0413300)\n",
    "3. Avengers: Age of Ultron (tt2395427)\n",
    "4. The Warrior's Way\t(tt1032751)\n",
    "5. Pirates of the Caribbean: On Stranger Tides (tt1298650)"
   ]
  },
  {
   "cell_type": "code",
   "execution_count": 4,
   "metadata": {},
   "outputs": [
    {
     "name": "stdout",
     "output_type": "stream",
     "text": [
      "The Warrior's Way\n"
     ]
    }
   ],
   "source": [
    "answer_id = data['budget'].idxmax()\n",
    "answer = data.iloc[answer_id]['original_title']\n",
    "print(answer)\n",
    "answers[1] = answer"
   ]
  },
  {
   "cell_type": "markdown",
   "metadata": {},
   "source": [
    "# 2. Какой из фильмов самый длительный (в минутах)\n",
    "1. The Lord of the Rings: The Return of the King\t(tt0167260)\n",
    "2. Gods and Generals\t(tt0279111)\n",
    "3. King Kong\t(tt0360717)\n",
    "4. Pearl Harbor\t(tt0213149)\n",
    "5. Alexander\t(tt0346491)"
   ]
  },
  {
   "cell_type": "code",
   "execution_count": 5,
   "metadata": {},
   "outputs": [
    {
     "name": "stdout",
     "output_type": "stream",
     "text": [
      "Gods and Generals\n"
     ]
    }
   ],
   "source": [
    "answer_id = data['runtime'].idxmax()\n",
    "answer = data.iloc[answer_id]['original_title']\n",
    "print(answer)\n",
    "answers[2] = answer"
   ]
  },
  {
   "cell_type": "markdown",
   "metadata": {},
   "source": [
    "# 3. Какой из фильмов самый короткий (в минутах)\n",
    "Варианты ответов:\n",
    "\n",
    "1. Home on the Range\ttt0299172\n",
    "2. The Jungle Book 2\ttt0283426\n",
    "3. Winnie the Pooh\ttt1449283\n",
    "4. Corpse Bride\ttt0121164\n",
    "5. Hoodwinked!\ttt0443536"
   ]
  },
  {
   "cell_type": "code",
   "execution_count": 6,
   "metadata": {},
   "outputs": [
    {
     "name": "stdout",
     "output_type": "stream",
     "text": [
      "Winnie the Pooh\n"
     ]
    }
   ],
   "source": [
    "answer_id = data['runtime'].idxmin()\n",
    "answer = data.iloc[answer_id]['original_title']\n",
    "print(answer)\n",
    "answers[3] = answer"
   ]
  },
  {
   "cell_type": "markdown",
   "metadata": {},
   "source": [
    "# 4. Средняя длительность фильма?\n",
    "\n",
    "Варианты ответов:\n",
    "1. 115\n",
    "2. 110\n",
    "3. 105\n",
    "4. 120\n",
    "5. 100\n"
   ]
  },
  {
   "cell_type": "code",
   "execution_count": 7,
   "metadata": {},
   "outputs": [
    {
     "name": "stdout",
     "output_type": "stream",
     "text": [
      "109.65343915343915\n"
     ]
    }
   ],
   "source": [
    "answer = data['runtime'].mean()\n",
    "print(answer)\n",
    "answers[4] = answer"
   ]
  },
  {
   "cell_type": "markdown",
   "metadata": {},
   "source": [
    "# 5. Средняя длительность фильма по медиане?\n",
    "Варианты ответов:\n",
    "1. 106\n",
    "2. 112\n",
    "3. 101\n",
    "4. 120\n",
    "5. 115\n",
    "\n",
    "\n"
   ]
  },
  {
   "cell_type": "code",
   "execution_count": 8,
   "metadata": {},
   "outputs": [
    {
     "name": "stdout",
     "output_type": "stream",
     "text": [
      "106.5\n"
     ]
    }
   ],
   "source": [
    "answer = data['runtime'].median()\n",
    "print(answer)\n",
    "answers[5] = answer"
   ]
  },
  {
   "cell_type": "markdown",
   "metadata": {},
   "source": [
    "# 6. Какой самый прибыльный фильм?\n",
    "Варианты ответов:\n",
    "1. The Avengers\ttt0848228\n",
    "2. Minions\ttt2293640\n",
    "3. Star Wars: The Force Awakens\ttt2488496\n",
    "4. Furious 7\ttt2820852\n",
    "5. Avatar\ttt0499549"
   ]
  },
  {
   "cell_type": "code",
   "execution_count": 9,
   "metadata": {},
   "outputs": [
    {
     "name": "stdout",
     "output_type": "stream",
     "text": [
      "Avatar\n"
     ]
    }
   ],
   "source": [
    "answer_id = data['profit'].idxmax()\n",
    "answer = data.iloc[answer_id]['original_title']\n",
    "print(answer)\n",
    "answers[6] = answer"
   ]
  },
  {
   "cell_type": "markdown",
   "metadata": {},
   "source": [
    "# 7. Какой фильм самый убыточный?\n",
    "Варианты ответов:\n",
    "1. Supernova tt0134983\n",
    "2. The Warrior's Way tt1032751\n",
    "3. Flushed Away\ttt0424095\n",
    "4. The Adventures of Pluto Nash\ttt0180052\n",
    "5. The Lone Ranger\ttt1210819"
   ]
  },
  {
   "cell_type": "code",
   "execution_count": 10,
   "metadata": {},
   "outputs": [
    {
     "name": "stdout",
     "output_type": "stream",
     "text": [
      "The Warrior's Way\n"
     ]
    }
   ],
   "source": [
    "answer_id = data['profit'].idxmin()\n",
    "answer = data.iloc[answer_id]['original_title']\n",
    "print(answer)\n",
    "answers[7] = answer"
   ]
  },
  {
   "cell_type": "markdown",
   "metadata": {},
   "source": [
    "# 8. Сколько всего фильмов в прибыли?\n",
    "Варианты ответов:\n",
    "1. 1478\n",
    "2. 1520\n",
    "3. 1241\n",
    "4. 1135\n",
    "5. 1398\n"
   ]
  },
  {
   "cell_type": "code",
   "execution_count": 11,
   "metadata": {},
   "outputs": [
    {
     "name": "stdout",
     "output_type": "stream",
     "text": [
      "1478\n"
     ]
    }
   ],
   "source": [
    "answer = len(data.query('is_profit == True'))\n",
    "print(answer)\n",
    "answers[8] = answer"
   ]
  },
  {
   "cell_type": "markdown",
   "metadata": {},
   "source": [
    "# 9. Самый прибыльный фильм в 2008 году?\n",
    "Варианты ответов:\n",
    "1. Madagascar: Escape 2 Africa\ttt0479952\n",
    "2. Iron Man\ttt0371746\n",
    "3. Kung Fu Panda\ttt0441773\n",
    "4. The Dark Knight\ttt0468569\n",
    "5. Mamma Mia!\ttt0795421"
   ]
  },
  {
   "cell_type": "code",
   "execution_count": 12,
   "metadata": {},
   "outputs": [
    {
     "name": "stdout",
     "output_type": "stream",
     "text": [
      "The Dark Knight\n"
     ]
    }
   ],
   "source": [
    "answer_id = data.query('release_year == 2008')['profit'].idxmax()\n",
    "answer = data.iloc[answer_id]['original_title']\n",
    "print(answer)\n",
    "answers[9] = answer"
   ]
  },
  {
   "cell_type": "markdown",
   "metadata": {},
   "source": [
    "# 10. Самый убыточный фильм за период с 2012 по 2014 (включительно)?\n",
    "Варианты ответов:\n",
    "1. Winter's Tale\ttt1837709\n",
    "2. Stolen\ttt1656186\n",
    "3. Broken City\ttt1235522\n",
    "4. Upside Down\ttt1374992\n",
    "5. The Lone Ranger\ttt1210819\n"
   ]
  },
  {
   "cell_type": "code",
   "execution_count": 13,
   "metadata": {},
   "outputs": [
    {
     "name": "stdout",
     "output_type": "stream",
     "text": [
      "The Lone Ranger\n"
     ]
    }
   ],
   "source": [
    "answer_id = data.query('2012 <= release_year <= 2014')['profit'].idxmin()\n",
    "answer = data.iloc[answer_id]['original_title']\n",
    "print(answer)\n",
    "answers[10] = answer"
   ]
  },
  {
   "cell_type": "markdown",
   "metadata": {},
   "source": [
    "# 11. Какого жанра фильмов больше всего?\n",
    "Варианты ответов:\n",
    "1. Action\n",
    "2. Adventure\n",
    "3. Drama\n",
    "4. Comedy\n",
    "5. Thriller"
   ]
  },
  {
   "cell_type": "code",
   "execution_count": 14,
   "metadata": {},
   "outputs": [],
   "source": [
    "# There are at least two ways to count genres\n",
    "# 1. Create own columns for each genre and count them using sum()\n",
    "# 2. Just read all genres string and count using Counter"
   ]
  },
  {
   "cell_type": "code",
   "execution_count": 15,
   "metadata": {},
   "outputs": [
    {
     "name": "stdout",
     "output_type": "stream",
     "text": [
      "drama\n"
     ]
    }
   ],
   "source": [
    "# case 1: create new columns for each genre\n",
    "\n",
    "def set_genres_in_row(row):\n",
    "    genres = row['genres'].split('|')\n",
    "    for genre in genres:\n",
    "        row['genre_' + genre.strip().lower()] = True\n",
    "    return row\n",
    "\n",
    "# fill Trues\n",
    "data = data.apply(set_genres_in_row, axis=1)\n",
    "\n",
    "# fill Falses\n",
    "genres_columns = [column for column in data.columns if column.startswith('genre_')]\n",
    "data.fillna({column: False for column in genres_columns}, inplace=True)\n",
    "\n",
    "# find most often genre\n",
    "answer = data[genres_columns].sum().sort_values().index[-1]\n",
    "answer = answer[len('genre_'):]\n",
    "print(answer)"
   ]
  },
  {
   "cell_type": "code",
   "execution_count": 16,
   "metadata": {},
   "outputs": [
    {
     "name": "stdout",
     "output_type": "stream",
     "text": [
      "drama\n"
     ]
    }
   ],
   "source": [
    "# case 2: use Counter\n",
    "genres_counter = Counter()\n",
    "\n",
    "def count_genres(s):\n",
    "    global genres_counter\n",
    "    for genre in s.split('|'):\n",
    "        genres_counter[genre.strip().lower()] += 1\n",
    "\n",
    "data['genres'].apply(count_genres)\n",
    "answer = genres_counter.most_common(1)[0][0]\n",
    "print(answer)\n",
    "\n",
    "answers[11] = answer"
   ]
  },
  {
   "cell_type": "markdown",
   "metadata": {},
   "source": [
    "# 12. Какого жанра среди прибыльных фильмов больше всего?\n",
    "Варианты ответов:\n",
    "1. Drama\n",
    "2. Comedy\n",
    "3. Action\n",
    "4. Thriller\n",
    "5. Adventure"
   ]
  },
  {
   "cell_type": "code",
   "execution_count": 17,
   "metadata": {},
   "outputs": [
    {
     "name": "stdout",
     "output_type": "stream",
     "text": [
      "drama\n"
     ]
    }
   ],
   "source": [
    "answer = data.query('is_profit == True')[genres_columns].sum().sort_values().index[-1]\n",
    "answer = answer[len('genre_'):]\n",
    "print(answer)\n",
    "answers[12] = answer"
   ]
  },
  {
   "cell_type": "markdown",
   "metadata": {},
   "source": [
    "# 13. Кто из режиссеров снял больше всего фильмов?\n",
    "Варианты ответов:\n",
    "1. Steven Spielberg\n",
    "2. Ridley Scott \n",
    "3. Steven Soderbergh\n",
    "4. Christopher Nolan\n",
    "5. Clint Eastwood"
   ]
  },
  {
   "cell_type": "code",
   "execution_count": 18,
   "metadata": {},
   "outputs": [
    {
     "name": "stdout",
     "output_type": "stream",
     "text": [
      "Steven Soderbergh\n"
     ]
    }
   ],
   "source": [
    "directors_counter = Counter()\n",
    "\n",
    "def count_directors(s):\n",
    "    global directors_counter\n",
    "    for director in s.split('|'):\n",
    "        directors_counter[director.strip()] += 1\n",
    "    return s\n",
    "\n",
    "data['director'].apply(count_directors)\n",
    "\n",
    "answer = directors_counter.most_common(1)[0][0]\n",
    "print(answer)\n",
    "\n",
    "answers[13] = answer"
   ]
  },
  {
   "cell_type": "markdown",
   "metadata": {},
   "source": [
    "# 14. Кто из режиссеров снял больше всего Прибыльных фильмов?\n",
    "Варианты ответов:\n",
    "1. Steven Soderbergh\n",
    "2. Clint Eastwood\n",
    "3. Steven Spielberg\n",
    "4. Ridley Scott\n",
    "5. Christopher Nolan"
   ]
  },
  {
   "cell_type": "code",
   "execution_count": 19,
   "metadata": {},
   "outputs": [
    {
     "name": "stdout",
     "output_type": "stream",
     "text": [
      "Ridley Scott\n"
     ]
    }
   ],
   "source": [
    "directors_counter = Counter()\n",
    "data.query('is_profit == True')['director'].apply(count_directors)\n",
    "answer = directors_counter.most_common(1)[0][0]\n",
    "print(answer)\n",
    "answers[14] = answer"
   ]
  },
  {
   "cell_type": "markdown",
   "metadata": {},
   "source": [
    "# 15. Кто из режиссеров принес больше всего прибыли?\n",
    "Варианты ответов:\n",
    "1. Steven Spielberg\n",
    "2. Christopher Nolan\n",
    "3. David Yates\n",
    "4. James Cameron\n",
    "5. Peter Jackson\n"
   ]
  },
  {
   "cell_type": "code",
   "execution_count": 20,
   "metadata": {},
   "outputs": [
    {
     "name": "stdout",
     "output_type": "stream",
     "text": [
      "Peter Jackson\n"
     ]
    }
   ],
   "source": [
    "directors_profit = Counter()\n",
    "\n",
    "def count_directors_profit(row):\n",
    "    global directors_profit\n",
    "    for director in row['director'].split('|'):\n",
    "        directors_profit[director.strip()] += row['profit']\n",
    "\n",
    "data.apply(count_directors_profit, axis=1)\n",
    "\n",
    "answer = directors_profit.most_common(1)[0][0]\n",
    "print(answer)\n",
    "\n",
    "answers[15] = answer"
   ]
  },
  {
   "cell_type": "markdown",
   "metadata": {},
   "source": [
    "# 16. Какой актер принес больше всего прибыли?\n",
    "Варианты ответов:\n",
    "1. Emma Watson\n",
    "2. Johnny Depp\n",
    "3. Michelle Rodriguez\n",
    "4. Orlando Bloom\n",
    "5. Rupert Grint"
   ]
  },
  {
   "cell_type": "code",
   "execution_count": 21,
   "metadata": {},
   "outputs": [
    {
     "name": "stdout",
     "output_type": "stream",
     "text": [
      "Emma Watson\n"
     ]
    }
   ],
   "source": [
    "actors_profit = Counter()\n",
    "\n",
    "def count_actors_profit(row):\n",
    "    global actors_profit\n",
    "    for actor in row['cast'].split('|'):\n",
    "        actors_profit[actor.strip()] += row['profit']\n",
    "\n",
    "data.apply(count_actors_profit, axis=1)\n",
    "\n",
    "answer = actors_profit.most_common(1)[0][0]\n",
    "print(answer)\n",
    "answers[16] = answer"
   ]
  },
  {
   "cell_type": "markdown",
   "metadata": {},
   "source": [
    "# 17. Какой актер принес меньше всего прибыли в 2012 году?\n",
    "Варианты ответов:\n",
    "1. Nicolas Cage\n",
    "2. Danny Huston\n",
    "3. Kirsten Dunst\n",
    "4. Jim Sturgess\n",
    "5. Sami Gayle"
   ]
  },
  {
   "cell_type": "code",
   "execution_count": 22,
   "metadata": {},
   "outputs": [
    {
     "name": "stdout",
     "output_type": "stream",
     "text": [
      "Kirsten Dunst\n"
     ]
    }
   ],
   "source": [
    "actors_profit = Counter()\n",
    "\n",
    "data.query(\"release_year == 2012\").apply(count_actors_profit, axis=1)\n",
    "\n",
    "answer = actors_profit.most_common()[-1][0]\n",
    "print(answer)\n",
    "answers[17] = answer"
   ]
  },
  {
   "cell_type": "markdown",
   "metadata": {},
   "source": [
    "# 18. Какой актер снялся в большем количестве высокобюджетных фильмов? (в фильмах где бюджет выше среднего по данной выборке)\n",
    "Варианты ответов:\n",
    "1. Tom Cruise\n",
    "2. Mark Wahlberg \n",
    "3. Matt Damon\n",
    "4. Angelina Jolie\n",
    "5. Adam Sandler"
   ]
  },
  {
   "cell_type": "code",
   "execution_count": 23,
   "metadata": {},
   "outputs": [
    {
     "name": "stdout",
     "output_type": "stream",
     "text": [
      "Matt Damon\n"
     ]
    }
   ],
   "source": [
    "actors_counter = Counter()\n",
    "\n",
    "def count_actors(cast):\n",
    "    global actors_counter\n",
    "    for actor in cast.split('|'):\n",
    "        actors_counter[actor.strip()] += 1\n",
    "\n",
    "mean = data['budget'].mean()\n",
    "data.query(\"budget > @mean\")['cast'].apply(count_actors)\n",
    "\n",
    "answer = actors_counter.most_common(1)[0][0]\n",
    "print(answer)\n",
    "answers[18] = answer"
   ]
  },
  {
   "cell_type": "markdown",
   "metadata": {},
   "source": [
    "# 19. В фильмах какого жанра больше всего снимался Nicolas Cage?  \n",
    "Варианты ответа:\n",
    "1. Drama\n",
    "2. Action\n",
    "3. Thriller\n",
    "4. Adventure\n",
    "5. Crime"
   ]
  },
  {
   "cell_type": "code",
   "execution_count": 24,
   "metadata": {},
   "outputs": [
    {
     "name": "stdout",
     "output_type": "stream",
     "text": [
      "action\n"
     ]
    }
   ],
   "source": [
    "answer = data.query(\"cast.str.contains('Nicolas Cage')\", engine='python')[genres_columns].sum()\n",
    "answer = answer.sort_values().index[-1][len('genre_'):]\n",
    "print(answer)\n",
    "answers[19] = answer"
   ]
  },
  {
   "cell_type": "markdown",
   "metadata": {},
   "source": [
    "# 20. Какая студия сняла больше всего фильмов?\n",
    "Варианты ответа:\n",
    "1. Universal Pictures (Universal)\n",
    "2. Paramount Pictures\n",
    "3. Columbia Pictures\n",
    "4. Warner Bros\n",
    "5. Twentieth Century Fox Film Corporation"
   ]
  },
  {
   "cell_type": "code",
   "execution_count": 25,
   "metadata": {},
   "outputs": [
    {
     "name": "stdout",
     "output_type": "stream",
     "text": [
      "Universal Pictures\n"
     ]
    }
   ],
   "source": [
    "companies_counter = Counter()\n",
    "def count_companies(s):\n",
    "    global companies_counter\n",
    "    for company in s.split('|'):\n",
    "        companies_counter[company] += 1\n",
    "\n",
    "data['production_companies'].apply(count_companies)\n",
    "\n",
    "answer = companies_counter.most_common(1)[0][0]\n",
    "print(answer)\n",
    "\n",
    "answers[20] = answer"
   ]
  },
  {
   "cell_type": "markdown",
   "metadata": {},
   "source": [
    "# 21. Какая студия сняла больше всего фильмов в 2015 году?\n",
    "Варианты ответа:\n",
    "1. Universal Pictures\n",
    "2. Paramount Pictures\n",
    "3. Columbia Pictures\n",
    "4. Warner Bros\n",
    "5. Twentieth Century Fox Film Corporation"
   ]
  },
  {
   "cell_type": "code",
   "execution_count": 26,
   "metadata": {},
   "outputs": [
    {
     "name": "stdout",
     "output_type": "stream",
     "text": [
      "Warner Bros.\n"
     ]
    }
   ],
   "source": [
    "companies_counter = Counter()\n",
    "\n",
    "data.query(\"release_year == 2015\")['production_companies'].apply(count_companies)\n",
    "\n",
    "answer = companies_counter.most_common(1)[0][0]\n",
    "print(answer)\n",
    "\n",
    "answers[21] = answer"
   ]
  },
  {
   "cell_type": "markdown",
   "metadata": {},
   "source": [
    "# 22. Какая студия заработала больше всего денег в жанре комедий за все время?\n",
    "Варианты ответа:\n",
    "1. Warner Bros\n",
    "2. Universal Pictures (Universal)\n",
    "3. Columbia Pictures\n",
    "4. Paramount Pictures\n",
    "5. Walt Disney"
   ]
  },
  {
   "cell_type": "code",
   "execution_count": 27,
   "metadata": {},
   "outputs": [
    {
     "name": "stdout",
     "output_type": "stream",
     "text": [
      "Universal Pictures\n"
     ]
    }
   ],
   "source": [
    "companies_profit_counter = Counter()\n",
    "def count_companies_profit(row):\n",
    "    global companies_profit_counter\n",
    "    for company in row['production_companies'].split('|'):\n",
    "        companies_profit_counter[company] += row['profit']\n",
    "\n",
    "data.query('genre_comedy == True').apply(count_companies_profit, axis=1)\n",
    "\n",
    "companies_profit_counter['Universal Pictures'] += companies_profit_counter['Universal']\n",
    "answer = companies_profit_counter.most_common(1)[0][0]\n",
    "print(answer)\n",
    "\n",
    "answers[22] = answer"
   ]
  },
  {
   "cell_type": "markdown",
   "metadata": {},
   "source": [
    "# 23. Какая студия заработала больше всего денег в 2012 году?\n",
    "Варианты ответа:\n",
    "1. Universal Pictures (Universal)\n",
    "2. Warner Bros\n",
    "3. Columbia Pictures\n",
    "4. Paramount Pictures\n",
    "5. Lucasfilm"
   ]
  },
  {
   "cell_type": "code",
   "execution_count": 28,
   "metadata": {},
   "outputs": [
    {
     "name": "stdout",
     "output_type": "stream",
     "text": [
      "Columbia Pictures\n"
     ]
    }
   ],
   "source": [
    "companies_profit_counter = Counter()\n",
    "\n",
    "data.query('release_year == 2012').apply(count_companies_profit, axis=1)\n",
    "\n",
    "companies_profit_counter['Universal Pictures'] += companies_profit_counter['Universal']\n",
    "answer = companies_profit_counter.most_common(1)[0][0]\n",
    "print(answer)\n",
    "answers[23] = answer"
   ]
  },
  {
   "cell_type": "markdown",
   "metadata": {},
   "source": [
    "# 24. Самый убыточный фильм от Paramount Pictures\n",
    "Варианты ответа:\n",
    "\n",
    "1. K-19: The Widowmaker tt0267626\n",
    "2. Next tt0435705\n",
    "3. Twisted tt0315297\n",
    "4. The Love Guru tt0811138\n",
    "5. The Fighter tt0964517"
   ]
  },
  {
   "cell_type": "code",
   "execution_count": 29,
   "metadata": {},
   "outputs": [
    {
     "name": "stdout",
     "output_type": "stream",
     "text": [
      "K-19: The Widowmaker\n"
     ]
    }
   ],
   "source": [
    "answer_id = data.query('production_companies.str.contains(\"Paramount Pictures\")')['profit'].idxmin()\n",
    "answer = data.iloc[answer_id]['original_title']\n",
    "print(answer)\n",
    "answers[24] = answer"
   ]
  },
  {
   "cell_type": "markdown",
   "metadata": {},
   "source": [
    "# 25. Какой Самый прибыльный год (заработали больше всего)?\n",
    "Варианты ответа:\n",
    "1. 2014\n",
    "2. 2008\n",
    "3. 2012\n",
    "4. 2002\n",
    "5. 2015"
   ]
  },
  {
   "cell_type": "code",
   "execution_count": 30,
   "metadata": {},
   "outputs": [
    {
     "name": "stdout",
     "output_type": "stream",
     "text": [
      "2015\n"
     ]
    }
   ],
   "source": [
    "answer = data.groupby(['release_year'])['profit'].sum().idxmax()\n",
    "print(answer)\n",
    "answers[25] = answer"
   ]
  },
  {
   "cell_type": "markdown",
   "metadata": {},
   "source": [
    "# 26. Какой Самый прибыльный год для студии Warner Bros?\n",
    "Варианты ответа:\n",
    "1. 2014\n",
    "2. 2008\n",
    "3. 2012\n",
    "4. 2010\n",
    "5. 2015"
   ]
  },
  {
   "cell_type": "code",
   "execution_count": 31,
   "metadata": {},
   "outputs": [
    {
     "name": "stdout",
     "output_type": "stream",
     "text": [
      "2014\n"
     ]
    }
   ],
   "source": [
    "t = data.query('production_companies.str.contains(\"Warner Bros\")')\n",
    "t = t.groupby(['release_year'])\n",
    "t = t['profit'].sum().idxmax()\n",
    "answer = t\n",
    "print(answer)\n",
    "answers[26] = answer"
   ]
  },
  {
   "cell_type": "markdown",
   "metadata": {},
   "source": [
    "# 27. В каком месяце за все годы суммарно вышло больше всего фильмов?\n",
    "Варианты ответа:\n",
    "1. Январь\n",
    "2. Июнь\n",
    "3. Декабрь\n",
    "4. Сентябрь\n",
    "5. Май"
   ]
  },
  {
   "cell_type": "code",
   "execution_count": 32,
   "metadata": {},
   "outputs": [],
   "source": [
    "# create month column\n",
    "data['release_month'] = pd.to_datetime(data['release_date']).dt.month"
   ]
  },
  {
   "cell_type": "code",
   "execution_count": 45,
   "metadata": {},
   "outputs": [
    {
     "name": "stdout",
     "output_type": "stream",
     "text": [
      "September\n"
     ]
    }
   ],
   "source": [
    "answer = data.groupby(['release_month'])['original_title'].count().idxmax()\n",
    "answer = calendar.month_name[answer]\n",
    "print(answer)\n",
    "answers[27] = answer"
   ]
  },
  {
   "cell_type": "markdown",
   "metadata": {},
   "source": [
    "# 28. Сколько суммарно вышло фильмов летом? (за июнь, июль, август)\n",
    "Варианты ответа:\n",
    "1. 345\n",
    "2. 450\n",
    "3. 478\n",
    "4. 523\n",
    "5. 381"
   ]
  },
  {
   "cell_type": "code",
   "execution_count": 34,
   "metadata": {},
   "outputs": [
    {
     "name": "stdout",
     "output_type": "stream",
     "text": [
      "450\n"
     ]
    }
   ],
   "source": [
    "t = data.groupby(['release_month'])['original_title'].count()\n",
    "answer = 0\n",
    "for month in [6, 7, 8]:\n",
    "    answer += t.loc[month]\n",
    "print(answer)\n",
    "answers[28] = answer"
   ]
  },
  {
   "cell_type": "markdown",
   "metadata": {},
   "source": [
    "# 29. Какой режисер выпускает (суммарно по годам) больше всего фильмов зимой?\n",
    "Варианты ответов:\n",
    "1. Steven Soderbergh\n",
    "2. Christopher Nolan\n",
    "3. Clint Eastwood\n",
    "4. Ridley Scott\n",
    "5. Peter Jackson"
   ]
  },
  {
   "cell_type": "code",
   "execution_count": 35,
   "metadata": {},
   "outputs": [
    {
     "name": "stdout",
     "output_type": "stream",
     "text": [
      "Peter Jackson\n"
     ]
    }
   ],
   "source": [
    "t = data.query(\"release_month in [1, 2, 12]\")['director']\n",
    "directors_counter = Counter()\n",
    "t.apply(count_directors)\n",
    "\n",
    "answer = directors_counter.most_common(1)[0][0]\n",
    "print(answer)\n",
    "\n",
    "answers[29] = answer"
   ]
  },
  {
   "cell_type": "markdown",
   "metadata": {},
   "source": [
    "# 30. Какой месяц чаще всего по годам самый прибыльный?\n",
    "Варианты ответа:\n",
    "1. Январь\n",
    "2. Июнь\n",
    "3. Декабрь\n",
    "4. Сентябрь\n",
    "5. Май"
   ]
  },
  {
   "cell_type": "code",
   "execution_count": 94,
   "metadata": {},
   "outputs": [
    {
     "name": "stdout",
     "output_type": "stream",
     "text": [
      "June\n"
     ]
    }
   ],
   "source": [
    "pivot = data.pivot_table(\n",
    "    values=['profit'], index=['release_month'], columns=['release_year']\n",
    ")\n",
    "for year in pivot.columns:\n",
    "    m = pivot[year].max()\n",
    "    pivot[year] = pivot[year].apply(lambda x: 1 if x == m else 0)\n",
    "answer = pivot.apply(sum, axis=1)\n",
    "answer = calendar.month_name[answer.loc[answer.idxmax()]]\n",
    "print(answer)\n",
    "answers[30] = answer"
   ]
  },
  {
   "cell_type": "code",
   "execution_count": 36,
   "metadata": {},
   "outputs": [
    {
     "name": "stdout",
     "output_type": "stream",
     "text": [
      "June\n"
     ]
    }
   ],
   "source": [
    "#answer = data.groupby(['release_month'])['profit'].sum().idxmax()\n",
    "#answer = calendar.month_name[answer]\n",
    "#print(answer)\n",
    "#answers[30] = answer"
   ]
  },
  {
   "cell_type": "markdown",
   "metadata": {},
   "source": [
    "# 31. Названия фильмов какой студии в среднем самые длинные по количеству символов?\n",
    "Варианты ответа:\n",
    "1. Universal Pictures (Universal)\n",
    "2. Warner Bros\n",
    "3. Jim Henson Company, The\n",
    "4. Paramount Pictures\n",
    "5. Four By Two Productions"
   ]
  },
  {
   "cell_type": "code",
   "execution_count": 37,
   "metadata": {},
   "outputs": [
    {
     "name": "stdout",
     "output_type": "stream",
     "text": [
      "Four By Two Productions\n"
     ]
    }
   ],
   "source": [
    "companies_films_counter = Counter()\n",
    "companies_films_names_lenght_total = Counter()\n",
    "\n",
    "def count(row):\n",
    "    global companies_films_counter\n",
    "    global companies_films_names_lenght_total\n",
    "    for company in row['production_companies'].split('|'):\n",
    "        companies_films_counter[company] += 1\n",
    "        companies_films_names_lenght_total[company] += len(row['original_title'])\n",
    "        \n",
    "data.apply(count, axis=1)\n",
    "\n",
    "answer = Counter()\n",
    "for company in companies_films_names_lenght_total.keys():\n",
    "    answer[company] = companies_films_names_lenght_total[company] / companies_films_counter[company]\n",
    "\n",
    "answer = answer.most_common(1)[0][0]\n",
    "print(answer)\n",
    "\n",
    "answers[31] = answer\n"
   ]
  },
  {
   "cell_type": "markdown",
   "metadata": {},
   "source": [
    "# 32. Названия фильмов какой студии в среднем самые длинные по количеству слов?\n",
    "Варианты ответа:\n",
    "1. Universal Pictures (Universal)\n",
    "2. Warner Bros\n",
    "3. Jim Henson Company, The\n",
    "4. Paramount Pictures\n",
    "5. Four By Two Productions"
   ]
  },
  {
   "cell_type": "code",
   "execution_count": 38,
   "metadata": {},
   "outputs": [
    {
     "name": "stdout",
     "output_type": "stream",
     "text": [
      "Four By Two Productions\n"
     ]
    }
   ],
   "source": [
    "companies_films_counter = Counter()\n",
    "companies_films_names_words_total = Counter()\n",
    "\n",
    "def count(row):\n",
    "    global companies_films_counter\n",
    "    global companies_films_names_lenght_total\n",
    "    for company in row['production_companies'].split('|'):\n",
    "        companies_films_counter[company] += 1\n",
    "        companies_films_names_words_total[company] += len(re.findall(r'\\w+', row['original_title'])) \n",
    "        \n",
    "data.apply(count, axis=1)\n",
    "\n",
    "answer = Counter()\n",
    "for company in companies_films_names_lenght_total.keys():\n",
    "    answer[company] = companies_films_names_words_total[company] / companies_films_counter[company]\n",
    "\n",
    "answer = answer.most_common(1)[0][0]\n",
    "print(answer)\n",
    "\n",
    "answers[32] = answer"
   ]
  },
  {
   "cell_type": "markdown",
   "metadata": {},
   "source": [
    "# 33. Сколько разных слов используется в названиях фильмов?(без учета регистра)\n",
    "Варианты ответа:\n",
    "1. 6540\n",
    "2. 1002\n",
    "3. 2461\n",
    "4. 28304\n",
    "5. 3432"
   ]
  },
  {
   "cell_type": "code",
   "execution_count": 39,
   "metadata": {},
   "outputs": [],
   "source": [
    "# there are some problems here\n",
    "\n",
    "words_set = set()\n",
    "words_set2 = set()\n",
    "\n",
    "def count_different_words(s):\n",
    "    global words_set\n",
    "    \n",
    "    for word in s.lower().split():\n",
    "        if word not in words_set:\n",
    "            words_set.add(word)\n",
    "    \n",
    "    for word in re.findall(r'\\w+', s.lower()):\n",
    "        if word not in words_set2:\n",
    "            words_set2.add(word)\n",
    "    \n",
    "\n",
    "data['original_title'].apply(count_different_words)\n",
    "\n",
    "#print(words_set2.difference(words_set))\n",
    "#print(words_set.difference(words_set2))\n",
    "\n",
    "answers[33] = 2461"
   ]
  },
  {
   "cell_type": "markdown",
   "metadata": {},
   "source": [
    "# 34. Какие фильмы входят в 1 процент лучших по рейтингу?\n",
    "Варианты ответа:\n",
    "1. Inside Out, Gone Girl, 12 Years a Slave\n",
    "2. BloodRayne, The Adventures of Rocky & Bullwinkle\n",
    "3. The Lord of the Rings: The Return of the King\n",
    "4. 300, Lucky Number Slevin"
   ]
  },
  {
   "cell_type": "code",
   "execution_count": 57,
   "metadata": {},
   "outputs": [
    {
     "name": "stdout",
     "output_type": "stream",
     "text": [
      "1% == 18.9 films\n",
      "[['Inside Out', 'Gone Girl', '12 Years a Slave']]\n"
     ]
    }
   ],
   "source": [
    "n = len(data) / 100\n",
    "print(\"1% == {} films\".format(n))\n",
    "n = int(n)\n",
    "indexes = data['vote_average'].sort_values(ascending=False).index[:n].to_list()\n",
    "films = data.iloc[indexes]['original_title'].to_list()\n",
    "films = set(films)\n",
    "choices = [\n",
    "    \"Inside Out, Gone Girl, 12 Years a Slave\",\n",
    "    \"BloodRayne, The Adventures of Rocky and Bullwinkle\",\n",
    "    \"The Lord of the Rings: The Return of the King, Upside Down\",\n",
    "    \"300, Lucky Number Slevin\",\n",
    "    \"Upside Down, 300, Inside Out, The Lord of the Rings: The Return of the King\"\n",
    "]\n",
    "for i, item in enumerate(choices):\n",
    "    choices[i] = [film.strip() for film in item.split(',')]\n",
    "answer = list()\n",
    "for choice in choices:\n",
    "    for film in choice:\n",
    "        if film not in films:\n",
    "            break\n",
    "    else:\n",
    "        answer.append(choice)\n",
    "print(answer)\n",
    "answers[34] = answer"
   ]
  },
  {
   "cell_type": "markdown",
   "metadata": {},
   "source": [
    "# 35. Какие актеры чаще всего снимаются в одном фильме вместе\n",
    "Варианты ответа:\n",
    "1. Johnny Depp & Helena Bonham Carter\n",
    "2. Hugh Jackman & Ian McKellen\n",
    "3. Vin Diesel & Paul Walker\n",
    "4. Adam Sandler & Kevin James\n",
    "5. Daniel Radcliffe & Rupert Grint"
   ]
  },
  {
   "cell_type": "code",
   "execution_count": 41,
   "metadata": {},
   "outputs": [
    {
     "name": "stdout",
     "output_type": "stream",
     "text": [
      "Daniel Radcliffe & Rupert Grint\n"
     ]
    }
   ],
   "source": [
    "# just compare proposed options\n",
    "choices = [\n",
    "    \"Johnny Depp & Helena Bonham Carter\",\n",
    "    \"Hugh Jackman & Ian McKellen\",\n",
    "    \"Vin Diesel & Paul Walker\",\n",
    "    \"Adam Sandler & Kevin James\",\n",
    "    \"Daniel Radcliffe & Rupert Grint\"\n",
    "]\n",
    "couples = [tuple(choice.split(' & ')) for choice in choices]\n",
    "counter = Counter()\n",
    "for couple in couples:\n",
    "    n = len(data[data['cast'].str.contains(couple[0]) & data['cast'].str.contains(couple[1])])\n",
    "    counter[couple] = n\n",
    "answer = ' & '.join(counter.most_common(1)[0][0])\n",
    "print(answer)\n",
    "answers[35] = answer"
   ]
  },
  {
   "cell_type": "markdown",
   "metadata": {},
   "source": [
    "# 36. У какого из режиссеров выше вероятность выпустить фильм в прибыли? (5 баллов)101\n",
    "Варианты ответа:\n",
    "1. Quentin Tarantino\n",
    "2. Steven Soderbergh\n",
    "3. Robert Rodriguez\n",
    "4. Christopher Nolan\n",
    "5. Clint Eastwood"
   ]
  },
  {
   "cell_type": "code",
   "execution_count": 71,
   "metadata": {},
   "outputs": [
    {
     "name": "stdout",
     "output_type": "stream",
     "text": [
      "Christopher Nolan\n"
     ]
    }
   ],
   "source": [
    "choices = [\n",
    "    \"Quentin Tarantino\",\n",
    "    \"Steven Soderbergh\",\n",
    "    \"Robert Rodriguez\",\n",
    "    \"Christopher Nolan\",\n",
    "    \"Clint Eastwood\"\n",
    "]\n",
    "\n",
    "directors_total_films_counter = Counter()\n",
    "directors_profit_films_counter = Counter()\n",
    "def count_36_question(row):\n",
    "    global directors_total_films_counter\n",
    "    global directors_profit_films_counter\n",
    "    for director in row['director'].split('|'):\n",
    "        directors_total_films_counter[director] += 1\n",
    "        directors_profit_films_counter[director] += 1 if row['is_profit'] else 0\n",
    "\n",
    "data.apply(count_36_question, axis=1)\n",
    "\n",
    "directors_total_films_counter\n",
    "directors = directors_total_films_counter.keys()\n",
    "probabilities = [\n",
    "    directors_profit_films_counter[director] / directors_total_films_counter[director]\n",
    "    for director in directors\n",
    "]\n",
    "answer = pd.Series(probabilities, index=directors)\n",
    "answer = answer.loc[choices].sort_values().index[-1]\n",
    "print(answer)\n",
    "answers[36] = answer"
   ]
  },
  {
   "cell_type": "markdown",
   "metadata": {},
   "source": [
    "# Submission"
   ]
  },
  {
   "cell_type": "code",
   "execution_count": 43,
   "metadata": {},
   "outputs": [
    {
     "data": {
      "text/plain": [
       "36"
      ]
     },
     "execution_count": 43,
     "metadata": {},
     "output_type": "execute_result"
    }
   ],
   "source": [
    "len(answers)"
   ]
  },
  {
   "cell_type": "code",
   "execution_count": 44,
   "metadata": {},
   "outputs": [
    {
     "data": {
      "text/plain": [
       "1     The Warrior's Way                                                                                   \n",
       "2     Gods and Generals                                                                                   \n",
       "3     Winnie the Pooh                                                                                     \n",
       "4     109.65343915343915                                                                                  \n",
       "5     106.5                                                                                               \n",
       "6     Avatar                                                                                              \n",
       "7     The Warrior's Way                                                                                   \n",
       "8     1478                                                                                                \n",
       "9     The Dark Knight                                                                                     \n",
       "10    The Lone Ranger                                                                                     \n",
       "11    drama                                                                                               \n",
       "12    drama                                                                                               \n",
       "13    Steven Soderbergh                                                                                   \n",
       "14    Ridley Scott                                                                                        \n",
       "15    Peter Jackson                                                                                       \n",
       "16    Emma Watson                                                                                         \n",
       "17    Kirsten Dunst                                                                                       \n",
       "18    Matt Damon                                                                                          \n",
       "19    action                                                                                              \n",
       "20    Universal Pictures                                                                                  \n",
       "21    Warner Bros.                                                                                        \n",
       "22    Universal Pictures                                                                                  \n",
       "23    Columbia Pictures                                                                                   \n",
       "24    K-19: The Widowmaker                                                                                \n",
       "25    2015                                                                                                \n",
       "26    2014                                                                                                \n",
       "27    June                                                                                                \n",
       "28    450                                                                                                 \n",
       "29    Peter Jackson                                                                                       \n",
       "30    June                                                                                                \n",
       "31    Four By Two Productions                                                                             \n",
       "32    Four By Two Productions                                                                             \n",
       "33    2461                                                                                                \n",
       "34    [['Inside Out', 'Gone Girl', '12 Years a Slave'], ['The Lord of the Rings: The Return of the King']]\n",
       "35    Daniel Radcliffe & Rupert Grint                                                                     \n",
       "36    Robert Rodriguez                                                                                    \n",
       "dtype: object"
      ]
     },
     "execution_count": 44,
     "metadata": {},
     "output_type": "execute_result"
    }
   ],
   "source": [
    "pd.set_option('display.max_colwidth', 0)\n",
    "pd.Series([str(answers[i]) for i in range(1, len(answers) + 1)], index=range(1, len(answers) + 1))"
   ]
  },
  {
   "cell_type": "code",
   "execution_count": null,
   "metadata": {},
   "outputs": [],
   "source": []
  }
 ],
 "metadata": {
  "kernelspec": {
   "display_name": "Python 3",
   "language": "python",
   "name": "python3"
  },
  "language_info": {
   "codemirror_mode": {
    "name": "ipython",
    "version": 3
   },
   "file_extension": ".py",
   "mimetype": "text/x-python",
   "name": "python",
   "nbconvert_exporter": "python",
   "pygments_lexer": "ipython3",
   "version": "3.8.2"
  }
 },
 "nbformat": 4,
 "nbformat_minor": 4
}
